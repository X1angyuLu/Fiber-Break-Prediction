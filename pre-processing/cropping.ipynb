{
 "cells": [
  {
   "cell_type": "code",
   "execution_count": 19,
   "metadata": {},
   "outputs": [],
   "source": [
    "from matplotlib import pyplot as plt\n",
    "import os\n",
    "import re\n",
    "import cv2\n",
    "from skimage.io import imsave\n",
    "import numpy as np\n",
    "import nibabel as nib"
   ]
  },
  {
   "cell_type": "code",
   "execution_count": 20,
   "metadata": {},
   "outputs": [],
   "source": [
    "fnames = [\n",
    "    'rec_8bit_abs_00002_rot_crop_513x1737x1716.raw',\n",
    "    'rec_8bit_abs_00012_rot_crop_487x1766x1716.raw',\n",
    "    'rec_8bit_abs_00018_rot_crop_487x1771x1716.raw',\n",
    "    'rec_8bit_abs_00024_rot_crop_490x1771x1716.raw',\n",
    "    'rec_8bit_abs_00030_rot_crop_488x1813x1716.raw',\n",
    "    'rec_8bit_abs_00036_rot_crop_483x1789x1716.raw',\n",
    "    'rec_8bit_abs_00042_rot_crop_483x1819x1716.raw',\n",
    "    'rec_8bit_abs_00045_rot_crop_482x1838x1716.raw',\n",
    "    'rec_8bit_abs_00048_rot_crop_498x1792x1716.raw',\n",
    "    'rec_8bit_abs_00051_rot_crop_487x1775x1716.raw',\n",
    "    'rec_8bit_abs_00053_rot_crop_494x1775x1716.raw',\n",
    "    'rec_8bit_abs_00054_rot_crop_481x1785x1716.raw',\n",
    "    'rec_8bit_abs_00055_rot_crop_492x1775x1716.raw',\n",
    "    'rec_8bit_abs_00056_rot_crop_471x1781x1716.raw',\n",
    "    'rec_8bit_abs_00058_rot_crop_487x1777x1716.raw',\n",
    "    'rec_8bit_abs_00059_rot_crop_483x1775x1716.raw',\n",
    "    'rec_8bit_abs_00060_rot_crop_478x1766x1716.raw'\n",
    "]"
   ]
  },
  {
   "cell_type": "code",
   "execution_count": 21,
   "metadata": {},
   "outputs": [],
   "source": [
    "crp_pos = {\n",
    "    fnames[-17]:[455,1315,45,455],\n",
    "    fnames[-16]:[510,1375,35,445],\n",
    "    fnames[-15]:[525,1400,35,445],\n",
    "    fnames[-14]:[540,1415,35,445],\n",
    "    fnames[-13]:[595,1475,35,445],\n",
    "    fnames[-12]:[590,1475,30,445],\n",
    "    fnames[-11]:[625,1515,25,445],\n",
    "    fnames[-10]:[650,1540,35,455],\n",
    "    fnames[-9]:[595,1490,40,460],\n",
    "    fnames[-8]:[570,1490,30,450],\n",
    "    fnames[-7]:[570,1490,35,450],\n",
    "    fnames[-6]:[570,1490,35,450],\n",
    "    fnames[-5]:[555,1475,35,450],\n",
    "    fnames[-4]:[555,1490,25,450],\n",
    "    fnames[-3]:[555,1490,30,460],\n",
    "    fnames[-2]:[555,1490,30,460],\n",
    "    fnames[-1]:[560,1505,40,460]\n",
    "}"
   ]
  },
  {
   "cell_type": "code",
   "execution_count": 22,
   "metadata": {},
   "outputs": [],
   "source": [
    "def get_size(file_name):\n",
    "    matches = re.findall(r'\\d+', file_name)\n",
    "    matches = [int(match) for match in matches]\n",
    "    force = matches[1]\n",
    "    length = matches[2]\n",
    "    width = matches[3]\n",
    "    height = matches[4]\n",
    "\n",
    "    return length, width, height"
   ]
  },
  {
   "cell_type": "code",
   "execution_count": 31,
   "metadata": {},
   "outputs": [],
   "source": [
    "for i in range(len(fnames)):\n",
    "    file_name = fnames[i]\n",
    "    length, width, height = get_size(file_name) # length:400-500, width:1700-1800(perpendicular to fiber direction), height:1717(parallel to fiber direction)\n",
    "    im = np.fromfile('./dataset/' + file_name, dtype=np.uint8)\n",
    "    im = im.reshape((height,width,length))\n",
    "\n",
    "    \n",
    "    im_slice = im[int(height/2)]\n",
    "    new_w = crp_pos[file_name][1] - crp_pos[file_name][0]\n",
    "    im_slice = im[int(height/2)].copy()\n",
    "    im_slice[crp_pos[file_name][0]+int(0.07*new_w), :] = 0 \n",
    "    im_slice[crp_pos[file_name][1]-int(0.13*new_w), :] = 0 \n",
    "    im_slice[:, crp_pos[file_name][2]] = 0\n",
    "    im_slice[:, crp_pos[file_name][3]] = 0\n",
    "\n",
    "    imsave(os.path.join('cropped_data/slices', str(i).zfill(5) + '.png'),\n",
    "                im_slice)\n",
    "    \n",
    "\n",
    "    cropped_img = im[:,\n",
    "                     crp_pos[file_name][0]+int(0.07*new_w) : crp_pos[file_name][1]-int(0.13*new_w),\n",
    "                     crp_pos[file_name][2] : crp_pos[file_name][3]]\n",
    "    nifti_img = nib.Nifti1Image(cropped_img, np.eye(4))\n",
    "    new_name = str(i).zfill(5) + '_1716x' + str(cropped_img.shape[1]) + \"x\" + str(cropped_img.shape[2]) + '.nii.gz'\n",
    "    nib.save(nifti_img, os.path.join('cropped_data/data', new_name))\n"
   ]
  }
 ],
 "metadata": {
  "kernelspec": {
   "display_name": "mt_xiangyu",
   "language": "python",
   "name": "python3"
  },
  "language_info": {
   "codemirror_mode": {
    "name": "ipython",
    "version": 3
   },
   "file_extension": ".py",
   "mimetype": "text/x-python",
   "name": "python",
   "nbconvert_exporter": "python",
   "pygments_lexer": "ipython3",
   "version": "3.10.13"
  }
 },
 "nbformat": 4,
 "nbformat_minor": 2
}
